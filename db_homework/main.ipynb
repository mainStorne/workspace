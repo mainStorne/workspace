{
  "cells": [
    {
      "cell_type": "code",
      "execution_count": 1,
      "metadata": {},
      "outputs": [],
      "source": [
        "from pathlib import Path\n",
        "from sys import path\n",
        "\n",
        "from polyfactory.factories.sqlalchemy_factory import SQLAlchemyFactory\n",
        "\n",
        "path.append(str(Path(\"..\").absolute()))\n",
        "from api.db.developers import Developer"
      ]
    },
    {
      "cell_type": "code",
      "execution_count": null,
      "metadata": {},
      "outputs": [],
      "source": [
        "from geoalchemy2 import Geometry\n",
        "from polyfactory import Ignore, Use\n",
        "\n",
        "\n",
        "class Factory(SQLAlchemyFactory[Developer]):\n",
        "    id = Ignore()\n",
        "    name = Use(SQLAlchemyFactory.__random__.choice, [\"James\", \"Mary\", \"John\", \"Patricia\", \"Robert\"])\n",
        "    department = Use(SQLAlchemyFactory.__random__.choice, [\"backend\", \"frontend\", \"ios\", \"android\"])\n",
        "\n",
        "    @classmethod\n",
        "    def get_sqlalchemy_types(cls):\n",
        "        return {**super().get_sqlalchemy_types(), Geometry: cls.get_geometry_type}\n",
        "\n",
        "    @classmethod\n",
        "    def get_geometry_type(cls):\n",
        "        lat, lot = cls.__faker__.latlng()\n",
        "        return f\"SRID=4269;POINT({lot} {lat})\"\n",
        "\n",
        "\n",
        "f = Factory()"
      ]
    },
    {
      "cell_type": "code",
      "execution_count": 13,
      "metadata": {},
      "outputs": [
        {
          "data": {
            "text/plain": [
              "Developer(name='Patricia', last_known_ip='195.14.74.175', department='backend', is_available=True, geolocation='SRID=4269;POINT(75.239787 -40.0917505)')"
            ]
          },
          "execution_count": 13,
          "metadata": {},
          "output_type": "execute_result"
        }
      ],
      "source": [
        "f.build()"
      ]
    },
    {
      "cell_type": "code",
      "execution_count": null,
      "metadata": {},
      "outputs": [],
      "source": [
        "from api.conf import session_maker\n",
        "\n",
        "async with session_maker() as session:\n",
        "    for _ in range(20):\n",
        "        obj = f.build()\n",
        "        session.add(obj)\n",
        "\n",
        "    await session.commit()"
      ]
    },
    {
      "cell_type": "code",
      "execution_count": 25,
      "metadata": {},
      "outputs": [],
      "source": [
        "class RandomFactory(Factory):\n",
        "    name = Use(lambda: SQLAlchemyFactory.__faker__.name())\n",
        "    department = Use(lambda: SQLAlchemyFactory.__faker__.job())\n",
        "\n",
        "\n",
        "random_factory = RandomFactory()"
      ]
    },
    {
      "cell_type": "code",
      "execution_count": 33,
      "metadata": {},
      "outputs": [
        {
          "data": {
            "text/plain": [
              "Developer(name='Mackenzie Daniels', last_known_ip='118.247.114.71', department='Clinical psychologist', is_available=True, geolocation='SRID=4269;POINT(152.774864 -10.9052985)')"
            ]
          },
          "execution_count": 33,
          "metadata": {},
          "output_type": "execute_result"
        }
      ],
      "source": [
        "random_factory.build()"
      ]
    },
    {
      "cell_type": "code",
      "execution_count": 34,
      "metadata": {},
      "outputs": [],
      "source": [
        "async with session_maker() as session:\n",
        "    for _ in range(10_000):\n",
        "        obj = random_factory.build()\n",
        "        session.add(obj)\n",
        "\n",
        "    await session.commit()"
      ]
    }
  ],
  "metadata": {
    "kernelspec": {
      "display_name": ".venv",
      "language": "python",
      "name": "python3"
    },
    "language_info": {
      "codemirror_mode": {
        "name": "ipython",
        "version": 3
      },
      "file_extension": ".py",
      "mimetype": "text/x-python",
      "name": "python",
      "nbconvert_exporter": "python",
      "pygments_lexer": "ipython3",
      "version": "3.12.10"
    }
  },
  "nbformat": 4,
  "nbformat_minor": 2
}
